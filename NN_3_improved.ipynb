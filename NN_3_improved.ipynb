{
 "cells": [
  {
   "cell_type": "code",
   "execution_count": 43,
   "id": "eb87e26f-36f7-4c30-925d-f1417c85a1df",
   "metadata": {},
   "outputs": [
    {
     "name": "stdout",
     "output_type": "stream",
     "text": [
      "Requirement already satisfied: torch in c:\\users\\garvi\\downloads\\new folder\\lib\\site-packages (2.7.1)\n",
      "Requirement already satisfied: torchvision in c:\\users\\garvi\\downloads\\new folder\\lib\\site-packages (0.22.1)\n",
      "Requirement already satisfied: torchaudio in c:\\users\\garvi\\downloads\\new folder\\lib\\site-packages (2.7.1)\n",
      "Requirement already satisfied: filelock in c:\\users\\garvi\\downloads\\new folder\\lib\\site-packages (from torch) (3.13.1)\n",
      "Requirement already satisfied: typing-extensions>=4.10.0 in c:\\users\\garvi\\downloads\\new folder\\lib\\site-packages (from torch) (4.11.0)\n",
      "Requirement already satisfied: sympy>=1.13.3 in c:\\users\\garvi\\downloads\\new folder\\lib\\site-packages (from torch) (1.14.0)\n",
      "Requirement already satisfied: networkx in c:\\users\\garvi\\downloads\\new folder\\lib\\site-packages (from torch) (3.3)\n",
      "Requirement already satisfied: jinja2 in c:\\users\\garvi\\downloads\\new folder\\lib\\site-packages (from torch) (3.1.4)\n",
      "Requirement already satisfied: fsspec in c:\\users\\garvi\\downloads\\new folder\\lib\\site-packages (from torch) (2024.6.1)\n",
      "Requirement already satisfied: setuptools in c:\\users\\garvi\\downloads\\new folder\\lib\\site-packages (from torch) (75.1.0)\n",
      "Requirement already satisfied: numpy in c:\\users\\garvi\\downloads\\new folder\\lib\\site-packages (from torchvision) (1.26.4)\n",
      "Requirement already satisfied: pillow!=8.3.*,>=5.3.0 in c:\\users\\garvi\\downloads\\new folder\\lib\\site-packages (from torchvision) (10.4.0)\n",
      "Requirement already satisfied: mpmath<1.4,>=1.1.0 in c:\\users\\garvi\\downloads\\new folder\\lib\\site-packages (from sympy>=1.13.3->torch) (1.3.0)\n",
      "Requirement already satisfied: MarkupSafe>=2.0 in c:\\users\\garvi\\downloads\\new folder\\lib\\site-packages (from jinja2->torch) (2.1.3)\n",
      "C:\\Users\\garvi\\Downloads\\New folder\\python.exe\n"
     ]
    }
   ],
   "source": [
    "import sys\n",
    "!\"{sys.executable}\" -m pip install torch torchvision torchaudio\n",
    "print(sys.executable)"
   ]
  },
  {
   "cell_type": "code",
   "execution_count": 44,
   "id": "487265f2-5f12-4e9f-b5fd-971278ea9af5",
   "metadata": {},
   "outputs": [],
   "source": [
    "import pandas as pd\n",
    "import numpy as np\n",
    "import torch\n",
    "from sklearn.model_selection import train_test_split\n",
    "from sklearn.preprocessing import StandardScaler\n",
    "from sklearn.preprocessing import LabelEncoder"
   ]
  },
  {
   "cell_type": "code",
   "execution_count": 45,
   "id": "227a5665-3610-40cc-908d-e66c24eb3a85",
   "metadata": {},
   "outputs": [],
   "source": [
    "df = pd.read_csv('https://raw.githubusercontent.com/gscdit/Breast-Cancer-Detection/refs/heads/master/data.csv')\n",
    "df.head()\n",
    "df.drop(columns=['id', 'Unnamed: 32'],inplace=True)\n",
    "df.head()\n",
    "x_train,x_test,y_train,y_test=train_test_split(df.iloc[:,1:],df.iloc[:,0], test_size=0.2)\n",
    "scaler=StandardScaler()\n",
    "x_train=scaler.fit_transform(x_train)\n",
    "x_test=scaler.transform(x_test)\n",
    "encoder=LabelEncoder()\n",
    "y_train=encoder.fit_transform(y_train)\n",
    "y_test=encoder.transform(y_test)\n",
    "x_train_tensor=torch.from_numpy(x_train)\n",
    "x_test_tensor=torch.from_numpy(x_test)\n",
    "y_train_tensor=torch.from_numpy(y_train)\n",
    "y_test_tensor=torch.from_numpy(y_test)"
   ]
  },
  {
   "cell_type": "code",
   "execution_count": 46,
   "id": "739dfa4f-68ab-463a-80b5-495167565594",
   "metadata": {},
   "outputs": [],
   "source": [
    "x_train_tensor = x_train_tensor.float()\n",
    "x_test_tensor = x_test_tensor.float()\n",
    "y_train_tensor = y_train_tensor.float()\n",
    "y_test_tensor = y_test_tensor.float()\n"
   ]
  },
  {
   "cell_type": "code",
   "execution_count": 47,
   "id": "d0ba49ad-f140-44b7-9d32-6335a09aac55",
   "metadata": {},
   "outputs": [],
   "source": [
    "import torch.nn as nn #using nn module\n",
    "class MySimpleNN(nn.Module):\n",
    "    def __init__(self,num_features):\n",
    "        super().__init__()\n",
    "        self.linear=nn.Linear(num_features,1)\n",
    "        self.sigmoid=nn.Sigmoid()\n",
    "    def forward(self,features):\n",
    "        out=self.linear(features)\n",
    "        out=self.sigmoid(out)\n",
    "        return out\n",
    "    #using built in loss functions                                                       #def loss_function(self,y_pred,y):\n",
    "                                                                                        #clamp predictions to avoid log(0)\n",
    "                                                                                     #   epsilon=1e-7\n",
    "                                                                                      #  y_pred=torch.clamp(y_pred,epsilon,1-epsilon)\n",
    "                                                                                        #calculate loss\n",
    "                                                                                       # loss=-(y*torch.log(y_pred)+(1-y)*torch.log(1-y_pred)).mean()\n",
    "                                                                                        #return loss\n",
    "        "
   ]
  },
  {
   "cell_type": "code",
   "execution_count": 48,
   "id": "e6b47b5e-9e58-4198-bbcf-d96db7d82b7a",
   "metadata": {},
   "outputs": [],
   "source": [
    "learning_rate=0.1\n",
    "epochs=25"
   ]
  },
  {
   "cell_type": "code",
   "execution_count": 49,
   "id": "f5c266a8-3df9-4bdf-8a85-71acc45503b3",
   "metadata": {},
   "outputs": [],
   "source": [
    "loss_function=nn.BCELoss()"
   ]
  },
  {
   "cell_type": "code",
   "execution_count": 53,
   "id": "e6b1b4cb-7e80-401c-8fb9-d78130e0ed67",
   "metadata": {},
   "outputs": [
    {
     "name": "stdout",
     "output_type": "stream",
     "text": [
      "Epoch:1, Loss:0.8731174468994141\n",
      "Epoch:2, Loss:0.8731174468994141\n",
      "Epoch:3, Loss:0.8731174468994141\n",
      "Epoch:4, Loss:0.8731174468994141\n",
      "Epoch:5, Loss:0.8731174468994141\n",
      "Epoch:6, Loss:0.8731174468994141\n",
      "Epoch:7, Loss:0.8731174468994141\n",
      "Epoch:8, Loss:0.8731174468994141\n",
      "Epoch:9, Loss:0.8731174468994141\n",
      "Epoch:10, Loss:0.8731174468994141\n",
      "Epoch:11, Loss:0.8731174468994141\n",
      "Epoch:12, Loss:0.8731174468994141\n",
      "Epoch:13, Loss:0.8731174468994141\n",
      "Epoch:14, Loss:0.8731174468994141\n",
      "Epoch:15, Loss:0.8731174468994141\n",
      "Epoch:16, Loss:0.8731174468994141\n",
      "Epoch:17, Loss:0.8731174468994141\n",
      "Epoch:18, Loss:0.8731174468994141\n",
      "Epoch:19, Loss:0.8731174468994141\n",
      "Epoch:20, Loss:0.8731174468994141\n",
      "Epoch:21, Loss:0.8731174468994141\n",
      "Epoch:22, Loss:0.8731174468994141\n",
      "Epoch:23, Loss:0.8731174468994141\n",
      "Epoch:24, Loss:0.8731174468994141\n",
      "Epoch:25, Loss:0.8731174468994141\n"
     ]
    }
   ],
   "source": [
    "##create model\n",
    "model=MySimpleNN(x_train_tensor.shape[1])\n",
    "#define optimizer\n",
    "optimizer=torch.optim.SGD(model.parameters(),lr=learning_rate)\n",
    "#define loops\n",
    "for epoch in range(epochs):\n",
    "    \n",
    "    #forward pass\n",
    "    y_pred=model(x_train_tensor)\n",
    "    #loss calculate\n",
    "    loss=loss_function(y_pred,y_train_tensor.view(-1,1))\n",
    "    #backward pass\n",
    "    loss.backward()\n",
    "    #zero gradients\n",
    "    optimizer.zero_grad()\n",
    "    #parameters update\n",
    "    optimizer.step()\n",
    "    #print loss in each epoch\n",
    "    print(f'Epoch:{epoch+1}, Loss:{loss.item()}')"
   ]
  },
  {
   "cell_type": "code",
   "execution_count": 51,
   "id": "f6da6357-3fc8-4b92-a661-125e35450c9c",
   "metadata": {},
   "outputs": [
    {
     "name": "stdout",
     "output_type": "stream",
     "text": [
      "Accuracy: 0.5169283151626587\n"
     ]
    }
   ],
   "source": [
    "#model evaluation\n",
    "with torch.no_grad():\n",
    "    y_pred=model.forward(x_test_tensor)\n",
    "    y_pred=(y_pred>0.5).float()\n",
    "    accuracy=(y_pred==y_test_tensor).float().mean()\n",
    "    print(f'Accuracy: {accuracy.item()}')"
   ]
  },
  {
   "cell_type": "code",
   "execution_count": 52,
   "id": "f421192d-bfdc-43a0-afa4-d0d53ab14cea",
   "metadata": {},
   "outputs": [
    {
     "data": {
      "text/plain": [
       "Parameter containing:\n",
       "tensor([[ 0.2861,  0.1476,  0.4598,  0.0974,  0.2059,  0.0454,  0.0767,  0.2323,\n",
       "         -0.0510, -0.2279,  0.0698, -0.1005,  0.2362,  0.0391,  0.0473, -0.0437,\n",
       "          0.1475,  0.2169, -0.1054, -0.1597,  0.1328,  0.2502,  0.2257,  0.2822,\n",
       "          0.2940,  0.2581,  0.0681,  0.3481,  0.2761,  0.0913]],\n",
       "       requires_grad=True)"
      ]
     },
     "execution_count": 52,
     "metadata": {},
     "output_type": "execute_result"
    }
   ],
   "source": [
    "model.linear.weight"
   ]
  },
  {
   "cell_type": "code",
   "execution_count": null,
   "id": "28ab3de2-e52a-4572-89f1-52ca913edeb1",
   "metadata": {},
   "outputs": [],
   "source": []
  }
 ],
 "metadata": {
  "kernelspec": {
   "display_name": "Python [conda env:New folder]",
   "language": "python",
   "name": "conda-env-New_folder-py"
  },
  "language_info": {
   "codemirror_mode": {
    "name": "ipython",
    "version": 3
   },
   "file_extension": ".py",
   "mimetype": "text/x-python",
   "name": "python",
   "nbconvert_exporter": "python",
   "pygments_lexer": "ipython3",
   "version": "3.12.7"
  }
 },
 "nbformat": 4,
 "nbformat_minor": 5
}
